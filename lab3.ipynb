{
 "cells": [
  {
   "cell_type": "code",
   "execution_count": 184,
   "id": "cc660755",
   "metadata": {},
   "outputs": [],
   "source": [
    "import numpy as np\n",
    "import matplotlib.pyplot as plt"
   ]
  },
  {
   "cell_type": "code",
   "execution_count": 185,
   "id": "586ad5f9",
   "metadata": {},
   "outputs": [],
   "source": [
    "def f_x(x):\n",
    "    return np.log(x)*x"
   ]
  },
  {
   "cell_type": "code",
   "execution_count": 186,
   "id": "7eb5322c",
   "metadata": {},
   "outputs": [],
   "source": [
    "a = 1\n",
    "b = 2\n",
    "m = 100\n",
    "h = (b-a)/m\n",
    "\n",
    "a_b = np.linspace(a,b,m)"
   ]
  },
  {
   "cell_type": "code",
   "execution_count": 187,
   "id": "3d5a75dd",
   "metadata": {},
   "outputs": [],
   "source": [
    "# Метод прямоугольников\n",
    "def rectangle(a_b, N, m):\n",
    "    h = (b-a)/N \n",
    "    f_left = [0]*len(a_b)\n",
    "\n",
    "    for i in range(len(a_b) - 1):\n",
    "        f_left[i] = f_x(a_b[i])\n",
    "\n",
    "    f_left[len(a_b) - 1] = f_x(a_b[len(a_b) - 1])\n",
    "\n",
    "    I_l = f_left[0] * h\n",
    "\n",
    "    for j in range(1, len(a_b)):\n",
    "        I_l += (f_left[j-1]*h)\n",
    "    return I_l"
   ]
  },
  {
   "cell_type": "code",
   "execution_count": 188,
   "id": "7fc341d8",
   "metadata": {},
   "outputs": [],
   "source": [
    "# Зависимость от шага сетки:\n",
    "#g = [10, 30, 50, 80, 100, 150, 200, 300, 400, 500, 700, 1000, 2000, 4000, 5000, 10000, 100000]\n",
    "g = np.linspace(10,100,10)\n",
    "g_res_1 = []\n",
    "for i in range(len(g)):\n",
    "    g_res_1.append(rectangle(a_b,g[i], m))"
   ]
  },
  {
   "cell_type": "code",
   "execution_count": 189,
   "id": "a9748853",
   "metadata": {},
   "outputs": [],
   "source": [
    "# Метод трапеций\n",
    "def trapezoid(a_b, N, m):\n",
    "    h = (b-a)/N\n",
    "    \n",
    "    f_tr = [0]*len(a_b)\n",
    "\n",
    "    for i in range(len(a_b)):\n",
    "        f_tr[i] = f_x(a_b[i])\n",
    "\n",
    "    I_tr = 0\n",
    "\n",
    "    for j in range(len(a_b) - 1):\n",
    "        I_tr += (f_tr[j] + f_tr[j+1])*(h/2)\n",
    "    return I_tr"
   ]
  },
  {
   "cell_type": "code",
   "execution_count": 190,
   "id": "de93d020",
   "metadata": {},
   "outputs": [],
   "source": [
    "g_res_2 = []\n",
    "for i in range(len(g)):\n",
    "    g_res_2.append(trapezoid(a_b, g[i], m))"
   ]
  },
  {
   "cell_type": "code",
   "execution_count": 191,
   "id": "98a3b4fd",
   "metadata": {},
   "outputs": [],
   "source": [
    "#Метод Симпсона\n",
    "def Simps(a_b, N, m):\n",
    "    h = (a-b)/N\n",
    "    \n",
    "    f_s = [0]*len(a_b)\n",
    "\n",
    "    for i in range(len(a_b)):\n",
    "        f_s[i] = f_x(a_b[i])\n",
    "\n",
    "    I_s = 0\n",
    "\n",
    "    for j in range(0, len(a_b) - 1, 2):\n",
    "        I_s +=(-1)*(h/3)*(f_s[j-1] + 4*f_s[j] + f_s[j+1])\n",
    "    return I_s"
   ]
  },
  {
   "cell_type": "code",
   "execution_count": 192,
   "id": "b81b85af",
   "metadata": {},
   "outputs": [],
   "source": [
    "g_res_3 = []\n",
    "for i in range(len(g)):\n",
    "    g_res_3.append(Simps(a_b,g[i], m))"
   ]
  },
  {
   "cell_type": "code",
   "execution_count": 193,
   "id": "c189cd18",
   "metadata": {},
   "outputs": [],
   "source": [
    "I = [0.63629436111989]*len(g)"
   ]
  },
  {
   "cell_type": "code",
   "execution_count": 194,
   "id": "d027c8a4",
   "metadata": {},
   "outputs": [
    {
     "name": "stderr",
     "output_type": "stream",
     "text": [
      "C:\\Users\\Никита\\AppData\\Local\\Temp\\ipykernel_3816\\3329111990.py:5: RuntimeWarning: invalid value encountered in log\n",
      "  R_rec.append(np.log((I[j]-g_res_1[j])))\n",
      "C:\\Users\\Никита\\AppData\\Local\\Temp\\ipykernel_3816\\3329111990.py:6: RuntimeWarning: invalid value encountered in log\n",
      "  R_trap.append(np.log((I[j]-g_res_2[j])))\n",
      "C:\\Users\\Никита\\AppData\\Local\\Temp\\ipykernel_3816\\3329111990.py:7: RuntimeWarning: invalid value encountered in log\n",
      "  R_simp.append(np.log((I[j]-g_res_3[j])))\n"
     ]
    }
   ],
   "source": [
    "R_rec = []\n",
    "R_trap = []\n",
    "R_simp = []\n",
    "for j in range(len(g)):\n",
    "    R_rec.append(np.log((I[j]-g_res_1[j])))\n",
    "    R_trap.append(np.log((I[j]-g_res_2[j])))\n",
    "    R_simp.append(np.log((I[j]-g_res_3[j])))\n",
    "g_1 = [np.log(x) for x in g]"
   ]
  },
  {
   "cell_type": "code",
   "execution_count": 195,
   "id": "b9fab4dd",
   "metadata": {},
   "outputs": [
    {
     "data": {
      "image/png": "[encoded data removed]",
      "text/plain": [
       "<Figure size 640x480 with 1 Axes>"
      ]
     },
     "metadata": {},
     "output_type": "display_data"
    }
   ],
   "source": [
    "plt.grid(visible=True) \n",
    "plt.plot(g_1, R_rec, color = 'blue')\n",
    "plt.plot(g_1, R_trap, color = 'green')\n",
    "plt.plot(g_1, R_simp, 'orange');"
   ]
  }
 ],
 "metadata": {
  "kernelspec": {
   "display_name": "Python 3 (ipykernel)",
   "language": "python",
   "name": "python3"
  },
  "language_info": {
   "codemirror_mode": {
    "name": "ipython",
    "version": 3
   },
   "file_extension": ".py",
   "mimetype": "text/x-python",
   "name": "python",
   "nbconvert_exporter": "python",
   "pygments_lexer": "ipython3",
   "version": "3.9.13"
  }
 },
 "nbformat": 4,
 "nbformat_minor": 5
}
