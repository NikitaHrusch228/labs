{
 "cells": [
  {
   "cell_type": "code",
   "execution_count": 9,
   "metadata": {},
   "outputs": [],
   "source": [
    "import numpy as np\n",
    "import matplotlib.pyplot as plt"
   ]
  },
  {
   "cell_type": "code",
   "execution_count": 10,
   "metadata": {},
   "outputs": [],
   "source": [
    "def f(x):\n",
    "    return x*np.arctan(x) + (x/2)*np.cos(x)-3\n",
    "\n",
    "def f_diff(x):\n",
    "    return np.arctan(x)+(x/(1+x*x))+(np.cos(x) - x*np.sin(x))/2\n",
    "\n",
    "def bisection(a, b, e):\n",
    "    while (b - a > e):\n",
    "        c = (a + b)/2\n",
    "        if (f(c)*f(a) < 0):\n",
    "            b = c\n",
    "        elif (f(c)*f(a) > 0):\n",
    "            a = c\n",
    "        else:\n",
    "            return c\n",
    "    return a\n",
    "\n",
    "def newton(a, e):\n",
    "    x_0 = a\n",
    "    x_1 = a - (f(x_0)/f_diff(x_0))\n",
    "    while (abs(x_0 -x_1) > e):\n",
    "        x_0 = x_1\n",
    "        x_1 = x_0 - (f(x_0)/f_diff(x_0))\n",
    "    return x_1\n"
   ]
  },
  {
   "cell_type": "markdown",
   "metadata": {},
   "source": [
    "#### Метод бисекций с точностью $10^{-3}$, $10^{-6}$, $10^{-9}$ соответственно:"
   ]
  },
  {
   "cell_type": "code",
   "execution_count": 11,
   "metadata": {},
   "outputs": [
    {
     "name": "stdout",
     "output_type": "stream",
     "text": [
      "3.5650634765625    3.5650634765625    3.5650634765625\n",
      "3.5650819540023804 3.5650819540023804 3.5650819540023804\n",
      "3.5650823690230027 3.5650823690230027 3.5650823690230027\n"
     ]
    }
   ],
   "source": [
    "print(bisection(0, 10, 0.001),\"  \", bisection(0, 10, 0.001),\"  \", bisection(0, 10, 0.001) )\n",
    "print(bisection(0, 10, 10**(-6)), bisection(0, 10, 10**(-6)), bisection(0, 10, 10**(-6)))\n",
    "print(bisection(0, 10, 10**(-9)), bisection(0, 10, 10**(-9)), bisection(0, 10, 10**(-9)))"
   ]
  },
  {
   "cell_type": "markdown",
   "metadata": {},
   "source": [
    "#### Метод Ньютона с точностью $10^{-3}$, $10^{-6}$, $10^{-9}$ соответственно:"
   ]
  },
  {
   "cell_type": "code",
   "execution_count": 12,
   "metadata": {},
   "outputs": [
    {
     "name": "stdout",
     "output_type": "stream",
     "text": [
      "3.5650828271791655 3.5650828271791655 3.5650828271791655\n",
      "3.5650823691629743 3.5650823691629743 3.5650823691629743\n",
      "3.565082369162858  3.565082369162858  3.565082369162858\n"
     ]
    }
   ],
   "source": [
    "print(newton(3, 0.001), newton(3, 0.001), newton(3, 0.001))\n",
    "print(newton(3, 10**(-6)), newton(3, 10**(-6)), newton(3, 10**(-6)))\n",
    "print(newton(3, 10**(-9)),\"\", newton(3, 10**(-9)),\"\", newton(3, 10**(-9)))"
   ]
  }
 ],
 "metadata": {
  "kernelspec": {
   "display_name": "Python 3 (ipykernel)",
   "language": "python",
   "name": "python3"
  },
  "language_info": {
   "codemirror_mode": {
    "name": "ipython",
    "version": 3
   },
   "file_extension": ".py",
   "mimetype": "text/x-python",
   "name": "python",
   "nbconvert_exporter": "python",
   "pygments_lexer": "ipython3",
   "version": "3.9.13"
  }
 },
 "nbformat": 4,
 "nbformat_minor": 2
}
