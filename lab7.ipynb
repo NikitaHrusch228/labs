{
 "cells": [
  {
   "cell_type": "markdown",
   "id": "66e40609",
   "metadata": {},
   "source": [
    "## Задание:"
   ]
  },
  {
   "attachments": {
    "image.png": {
     "image/png": "[encoded data removed]"
    }
   },
   "cell_type": "markdown",
   "id": "f6616c5e",
   "metadata": {},
   "source": [
    "![image.png](attachment:image.png)\n"
   ]
  },
  {
   "cell_type": "code",
   "execution_count": 76,
   "id": "49c68d80",
   "metadata": {},
   "outputs": [],
   "source": [
    "import numpy as np\n",
    "import pandas as pd\n",
    "import matplotlib.pyplot as plt\n",
    "from mpl_toolkits.mplot3d import Axes3D"
   ]
  },
  {
   "cell_type": "code",
   "execution_count": 77,
   "id": "e9093639",
   "metadata": {},
   "outputs": [],
   "source": [
    "tau = 0.01\n",
    "h = 0.05\n",
    "T = 1\n",
    "N = int(T / tau)\n",
    "I = int(1 / h)\n",
    "\n",
    "a = 1/np.sqrt(2)\n",
    "\n",
    "a0 = 1\n",
    "al = 1\n",
    "\n",
    "b0 = -1\n",
    "bl = 0\n",
    "\n",
    "#Сетка\n",
    "omega_h = np.linspace(0, 1, I+1)\n",
    "omega_tau = np.linspace(0, T, N+1)\n",
    "\n",
    "u_teor = np.zeros((I+1, N+1))\n",
    "u_i_n = np.zeros((I+1, N+1))"
   ]
  },
  {
   "cell_type": "code",
   "execution_count": 78,
   "id": "950020a5",
   "metadata": {},
   "outputs": [],
   "source": [
    "def phi_1_x(x): \n",
    "    return 2*np.cos(x)\n",
    "\n",
    "def psi_x(x): \n",
    "    return 2*np.sin(x)\n",
    "\n",
    "def gamma_0(t): \n",
    "    return 2*(np.cos(t) - np.sin(t))\n",
    "\n",
    "def gamma_l(t): \n",
    "    return 2*np.cos(1-t)\n",
    "\n",
    "def u_teoretical(x,t): \n",
    "    return 2*np.cos(t-x)\n",
    "\n",
    "def f(x,t): \n",
    "    return (-1)*np.cos(t-x)"
   ]
  },
  {
   "cell_type": "code",
   "execution_count": 79,
   "id": "c1c70889",
   "metadata": {},
   "outputs": [],
   "source": [
    "# Апроксимация начальных условий\n",
    "for i in range(I+1):\n",
    "    u_i_n[i][0] =  phi_1_x(omega_h[i])\n",
    "    \n",
    "# Апроксимация начальных условий (второй порядок)\n",
    "for i in range(1, I):\n",
    "    u_i_n[i][1] = (1/2) * (2*(1-((tau*a)/h)**2)*u_i_n[i][0] + (u_i_n[i+1][0] + u_i_n[i-1][0])*((tau*a)/h)**2 + f(omega_h[i], omega_tau[0])*(tau**2) + psi_x(omega_h[i])*2*tau)\n",
    "    \n",
    "# Апроксимация граничных условий\n",
    "\n",
    "# Первый порядок\n",
    "def first(n):\n",
    "        u_i_n[I][n+1] = (1/(bl+al*h))*(gamma_l(omega_tau[n+1]) * h + bl * u_i_n[I-1][n+1])\n",
    "        u_i_n[0][n+1] = (1/(a0-b0/h))*(gamma_0(omega_tau[n+1]) - u_i_n[1][n+1]*(b0/h))\n",
    "        \n",
    "#Второй порядок        \n",
    "def second(n):\n",
    "        u_i_n[I][n+1] = (gamma_l(omega_tau[n+1]) - (bl/(2*h))*(u_i_n[I-2][n+1] - 4*u_i_n[I-1][n+1]))/(al+(3*bl)/(2*h))\n",
    "        u_i_n[0][n+1] = (gamma_0(omega_tau[n+1]) - (b0/(2*h))*(-u_i_n[2][n+1] + 4*u_i_n[1][n+1]))/(a0-(3*b0)/(2*h))\n",
    "        "
   ]
  },
  {
   "cell_type": "code",
   "execution_count": 80,
   "id": "33f3cf3a",
   "metadata": {},
   "outputs": [],
   "source": [
    "u_i_n[0][1] = (gamma_0(omega_tau[1]) - (b0/(2*h))*(4*u_i_n[1][1] - u_i_n[2][1]))/(a0-(3*b0)/(2*h))\n",
    "u_i_n[I][1] = (gamma_l(omega_tau[1]) - (bl/(2*h))*(u_i_n[I-2][1] - 4*u_i_n[I-1][1]))/(al+(3*bl)/(2*h))\n",
    "\n",
    "for n in range(2, N+1):\n",
    "    for i in range(1, I):\n",
    "        u_i_n[i][n] = 2*u_i_n[i][n-1] - u_i_n[i][n-2] + (u_i_n[i+1][n-1] - 2*u_i_n[i][n-1] + u_i_n[i-1][n-1])*((tau*a)/h)**2 + tau*tau*f(omega_h[i], omega_tau[n-1]) \n",
    "    second(n-1)"
   ]
  },
  {
   "cell_type": "code",
   "execution_count": 81,
   "id": "628fd17f",
   "metadata": {},
   "outputs": [],
   "source": [
    "x,y = np.meshgrid(omega_h, omega_tau)\n",
    "z = u_i_n\n",
    "for i in range(I+1):\n",
    "    for n in range(N+1):\n",
    "        u_teor[i][n] = u_teoretical(omega_h[i], omega_tau[n])"
   ]
  },
  {
   "cell_type": "code",
   "execution_count": 82,
   "id": "b744d572",
   "metadata": {},
   "outputs": [],
   "source": [
    "#fig = plt.figure()\n",
    "#ax = fig.add_subplot(projection=\"3d\")\n",
    "\n",
    "#ax.plot_surface(x, y, u_teor, cmap=\"inferno\")\n",
    "\n",
    "#ax.set(xlabel=\"$x$\", ylabel=\"$t$\", zlabel=\"$u$\");\n"
   ]
  },
  {
   "cell_type": "code",
   "execution_count": 83,
   "id": "58364a2b",
   "metadata": {},
   "outputs": [],
   "source": [
    "#fig = plt.figure()\n",
    "#ax = fig.add_subplot(projection=\"3d\")\n",
    "\n",
    "#ax.plot_surface(x, y, z)\n",
    "\n",
    "#ax.set(xlabel=\"$x$\", ylabel=\"$t$\", zlabel=\"$u$\");"
   ]
  },
  {
   "cell_type": "code",
   "execution_count": 84,
   "id": "ab5495c3",
   "metadata": {},
   "outputs": [
    {
     "name": "stdout",
     "output_type": "stream",
     "text": [
      "0.00048455585499551646\n"
     ]
    }
   ],
   "source": [
    "#для второого\n",
    "a = []\n",
    "for i in range(I+1):\n",
    "    a.append(abs(u_i_n[i][N] - u_teor[i][N]))\n",
    "print(max(a))"
   ]
  },
  {
   "cell_type": "code",
   "execution_count": 75,
   "id": "ddd7dfa9",
   "metadata": {},
   "outputs": [
    {
     "name": "stdout",
     "output_type": "stream",
     "text": [
      "0.020314189295813856\n"
     ]
    }
   ],
   "source": [
    "#для первого\n",
    "b = []\n",
    "for i in range(I+1):\n",
    "    b.append(abs(u_i_n[i][N] - u_teor[i][N]))\n",
    "print(max(b))"
   ]
  }
 ],
 "metadata": {
  "kernelspec": {
   "display_name": "Python 3 (ipykernel)",
   "language": "python",
   "name": "python3"
  },
  "language_info": {
   "codemirror_mode": {
    "name": "ipython",
    "version": 3
   },
   "file_extension": ".py",
   "mimetype": "text/x-python",
   "name": "python",
   "nbconvert_exporter": "python",
   "pygments_lexer": "ipython3",
   "version": "3.9.13"
  }
 },
 "nbformat": 4,
 "nbformat_minor": 5
}
